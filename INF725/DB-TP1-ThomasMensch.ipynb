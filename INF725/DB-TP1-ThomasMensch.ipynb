{
 "cells": [
  {
   "cell_type": "markdown",
   "metadata": {},
   "source": [
    "# TP1 - Finding Keys using Functional Dependencies \n",
    "--------------------------\n",
    "\n",
    "In this lab, we are going to learn \n",
    "\n",
    "- how to use Jupyter\n",
    "- how to use SQLite\n",
    "- how to discover keys in relations\n",
    "\n",
    "## How to use Jupyter\n",
    "\n",
    "To execute a cell, click on it, and then use SHIFT+ENTER (this will execute the contents of the cell, and move down to the next one!)\n",
    "\n",
    "To edit a cell, click on it. If the cell uses markdown code, then use ENTER to edit it.\n",
    "\n",
    "See the Help menu for other useful keyboard commands. You can always use the menu bar instead as well.\n"
   ]
  },
  {
   "cell_type": "code",
   "execution_count": 1,
   "metadata": {},
   "outputs": [
    {
     "name": "stdout",
     "output_type": "stream",
     "text": [
      "Hello world!\n"
     ]
    }
   ],
   "source": [
    "print(\"Hello world!\")"
   ]
  },
  {
   "cell_type": "markdown",
   "metadata": {},
   "source": [
    "Another example:"
   ]
  },
  {
   "cell_type": "code",
   "execution_count": 2,
   "metadata": {},
   "outputs": [
    {
     "name": "stdout",
     "output_type": "stream",
     "text": [
      "1\n",
      "2\n",
      "3\n",
      "4\n",
      "5\n",
      "6\n",
      "7\n",
      "8\n",
      "9\n"
     ]
    }
   ],
   "source": [
    "for i in range(1,10):\n",
    "    print(i)"
   ]
  },
  {
   "cell_type": "markdown",
   "metadata": {},
   "source": [
    "#### Exercise 1\n",
    "\n",
    "Print numbers 1 to 9 in reverse order"
   ]
  },
  {
   "cell_type": "code",
   "execution_count": 3,
   "metadata": {},
   "outputs": [
    {
     "name": "stdout",
     "output_type": "stream",
     "text": [
      "9\n",
      "8\n",
      "7\n",
      "6\n",
      "5\n",
      "4\n",
      "3\n",
      "2\n",
      "1\n"
     ]
    }
   ],
   "source": [
    "for i in reversed(range(1, 10)):\n",
    "    print(i)"
   ]
  },
  {
   "cell_type": "markdown",
   "metadata": {},
   "source": [
    "## How to use SQLite\n",
    "\n",
    "To work with SQL easily in a notebook, we'll load the ipython-sql extension as follows:"
   ]
  },
  {
   "cell_type": "code",
   "execution_count": 4,
   "metadata": {},
   "outputs": [
    {
     "data": {
      "text/plain": [
       "'Connected: @None'"
      ]
     },
     "execution_count": 4,
     "metadata": {},
     "output_type": "execute_result"
    }
   ],
   "source": [
    "%load_ext sql\n",
    "%sql sqlite://"
   ]
  },
  {
   "cell_type": "markdown",
   "metadata": {},
   "source": [
    "We are going to create a table:"
   ]
  },
  {
   "cell_type": "code",
   "execution_count": 5,
   "metadata": {},
   "outputs": [
    {
     "name": "stdout",
     "output_type": "stream",
     "text": [
      " * sqlite://\n",
      "Done.\n",
      "Done.\n",
      "1 rows affected.\n",
      "1 rows affected.\n",
      "1 rows affected.\n"
     ]
    },
    {
     "data": {
      "text/plain": [
       "[]"
      ]
     },
     "execution_count": 5,
     "metadata": {},
     "output_type": "execute_result"
    }
   ],
   "source": [
    "%%sql DROP TABLE IF EXISTS T;\n",
    "CREATE TABLE T(course VARCHAR, classroom INT, time INT);\n",
    "INSERT INTO T VALUES ('CS 364', 132, 900);\n",
    "INSERT INTO T VALUES ('CS 245', 140, 1000);\n",
    "INSERT INTO T VALUES ('EE 101', 210, 900);"
   ]
  },
  {
   "cell_type": "markdown",
   "metadata": {},
   "source": [
    "Let's run our first SQL query:"
   ]
  },
  {
   "cell_type": "code",
   "execution_count": 6,
   "metadata": {},
   "outputs": [
    {
     "name": "stdout",
     "output_type": "stream",
     "text": [
      " * sqlite://\n",
      "Done.\n"
     ]
    },
    {
     "data": {
      "text/html": [
       "<table>\n",
       "    <tr>\n",
       "        <th>course</th>\n",
       "        <th>classroom</th>\n",
       "        <th>time</th>\n",
       "    </tr>\n",
       "    <tr>\n",
       "        <td>CS 364</td>\n",
       "        <td>132</td>\n",
       "        <td>900</td>\n",
       "    </tr>\n",
       "    <tr>\n",
       "        <td>CS 245</td>\n",
       "        <td>140</td>\n",
       "        <td>1000</td>\n",
       "    </tr>\n",
       "    <tr>\n",
       "        <td>EE 101</td>\n",
       "        <td>210</td>\n",
       "        <td>900</td>\n",
       "    </tr>\n",
       "</table>"
      ],
      "text/plain": [
       "[('CS 364', 132, 900), ('CS 245', 140, 1000), ('EE 101', 210, 900)]"
      ]
     },
     "execution_count": 6,
     "metadata": {},
     "output_type": "execute_result"
    }
   ],
   "source": [
    "%sql SELECT * FROM T;"
   ]
  },
  {
   "cell_type": "markdown",
   "metadata": {},
   "source": [
    "#### Exercise 2\n",
    "\n",
    "List the name of the courses with time less than 950"
   ]
  },
  {
   "cell_type": "code",
   "execution_count": 7,
   "metadata": {},
   "outputs": [
    {
     "name": "stdout",
     "output_type": "stream",
     "text": [
      " * sqlite://\n",
      "Done.\n"
     ]
    },
    {
     "data": {
      "text/html": [
       "<table>\n",
       "    <tr>\n",
       "        <th>course</th>\n",
       "    </tr>\n",
       "    <tr>\n",
       "        <td>CS 364</td>\n",
       "    </tr>\n",
       "    <tr>\n",
       "        <td>EE 101</td>\n",
       "    </tr>\n",
       "</table>"
      ],
      "text/plain": [
       "[('CS 364',), ('EE 101',)]"
      ]
     },
     "execution_count": 7,
     "metadata": {},
     "output_type": "execute_result"
    }
   ],
   "source": [
    "%sql SELECT course FROM T WHERE time < 950"
   ]
  },
  {
   "cell_type": "markdown",
   "metadata": {},
   "source": [
    "## How to discover keys in relations\n",
    "\n",
    "Now, we are going to work with functional dependencies, keys and closures. Our final goal is going to build a method to find keys in a relation.\n",
    "\n",
    "### Functional Dependencies\n",
    "\n",
    "Recall that given a set of attributes  $\\{A_1, \\dots, A_n\\}$ and a set of FDs $\\Gamma$\n",
    "\n",
    "The closure, denoted $\\{A_1, \\dots, A_n\\}^+$, is defined to be the largest set of attributes B s.t. $$A_1,\\dots,A_n \\rightarrow B \\text{ using } \\Gamma.$$\n",
    "\n",
    "We're going to use some functions to compute the closure of a set of attributes and other such operations (_from CS145 Stanford_)"
   ]
  },
  {
   "cell_type": "code",
   "execution_count": 8,
   "metadata": {},
   "outputs": [],
   "source": [
    "# Source code\n",
    "\n",
    "\n",
    "def to_set(x):\n",
    "    \"\"\"Convert input int, string, list, tuple, set -> set\"\"\"\n",
    "    if type(x) == set:\n",
    "        return x\n",
    "    elif type(x) in [list, set]:\n",
    "        return set(x)\n",
    "    elif type(x) in [str, int]:\n",
    "        return set([x])\n",
    "    else:\n",
    "        raise Exception(\"Unrecognized type.\")\n",
    "\n",
    "\n",
    "def fd_to_str(lr_tuple):\n",
    "    lhs = lr_tuple[0]\n",
    "    rhs = lr_tuple[1]\n",
    "    return \",\".join(to_set(lhs)) + \" -> \" + \",\".join(to_set(rhs))\n",
    "\n",
    "\n",
    "def fds_to_str(fds):\n",
    "    return \"\\n\\t\".join(map(fd_to_str, fds))\n",
    "\n",
    "\n",
    "def set_to_str(x):\n",
    "    return \"{\" + \",\".join(x) + \"}\"\n",
    "\n",
    "\n",
    "def fd_applies_to(fd, x):\n",
    "    lhs, rhs = map(to_set, fd)\n",
    "    return lhs.issubset(x)\n",
    "\n",
    "\n",
    "def print_setup(A, fds):\n",
    "    print(\"Attributes = \" + set_to_str(A))\n",
    "    print(\"FDs = \\t\" + fds_to_str(fds))\n",
    "\n",
    "\n",
    "def print_fds(fds):\n",
    "    print(\"FDs = \\t\" + fds_to_str(fds))"
   ]
  },
  {
   "cell_type": "markdown",
   "metadata": {},
   "source": [
    "Now, let's look at a concrete example. For example, the code for\n",
    "\n",
    "attributes = { name, category, color, department, price}\n",
    "\n",
    "and functional dependencies:\n",
    "\n",
    "name $\\rightarrow$ color\n",
    "\n",
    "category $\\rightarrow$ department\n",
    "\n",
    "color, category $\\rightarrow$ price\n",
    "\n",
    "is the following:"
   ]
  },
  {
   "cell_type": "code",
   "execution_count": 9,
   "metadata": {},
   "outputs": [
    {
     "name": "stdout",
     "output_type": "stream",
     "text": [
      "Attributes = {color,price,category,department,name}\n",
      "FDs = \tname -> color\n",
      "\tcategory -> department\n",
      "\tcategory,color -> price\n"
     ]
    }
   ],
   "source": [
    "# These are the attribute set.\n",
    "attributes = set([\"name\", \"category\", \"color\", \"department\", \"price\"])\n",
    "fds = [(set([\"name\"]), \"color\"),\n",
    "       (set([\"category\"]), \"department\"),\n",
    "       (set([\"color\", \"category\"]), \"price\")]\n",
    "\n",
    "print_setup(attributes, fds)"
   ]
  },
  {
   "cell_type": "markdown",
   "metadata": {},
   "source": [
    "### Closure of a set of Attributes\n",
    "\n",
    "Let's implement the algorithm for obtaining the closure of a set of attributes:"
   ]
  },
  {
   "cell_type": "code",
   "execution_count": 10,
   "metadata": {},
   "outputs": [],
   "source": [
    "def compute_closure(x, fds, verbose=False):\n",
    "    # We will repeat until there are no changes.\n",
    "    bChanged = True\n",
    "    \n",
    "    # Make a copy of the input to hold x^{+}\n",
    "    x_ret = x.copy()\n",
    "    \n",
    "    while bChanged:\n",
    "        # Must change on each iteration\n",
    "        bChanged = False\n",
    "        # loop through all the FDs.\n",
    "        for fd in fds:\n",
    "            # recall: lhs -> rhs\n",
    "            (lhs, rhs) = map(to_set, fd)\n",
    "            if fd_applies_to(fd, x_ret) and not rhs.issubset(x_ret):\n",
    "                x_ret = x_ret.union(rhs)\n",
    "                if verbose:\n",
    "                    print(\"Using FD \" + fd_to_str(fd))\n",
    "                    print(\"\\t Updated x to \" + set_to_str(x_ret))\n",
    "                bChanged = True\n",
    "\n",
    "    return x_ret"
   ]
  },
  {
   "cell_type": "markdown",
   "metadata": {},
   "source": [
    "As an example, let's compute the closure for the attribute \"name\":"
   ]
  },
  {
   "cell_type": "code",
   "execution_count": 12,
   "metadata": {},
   "outputs": [
    {
     "name": "stdout",
     "output_type": "stream",
     "text": [
      "Using FD name -> color\n",
      "\t Updated x to {name,color}\n"
     ]
    },
    {
     "data": {
      "text/plain": [
       "{'color', 'name'}"
      ]
     },
     "execution_count": 12,
     "metadata": {},
     "output_type": "execute_result"
    }
   ],
   "source": [
    "A = set([\"name\"])\n",
    "compute_closure(A, fds, verbose=True)"
   ]
  },
  {
   "cell_type": "markdown",
   "metadata": {},
   "source": [
    "#### Exercise 3\n",
    "\n",
    "Is the attribute \"name\" a superkey for this relation? Why?"
   ]
  },
  {
   "cell_type": "markdown",
   "metadata": {},
   "source": [
    "A superkey is a set of attributes within a table whose values can be used to uniquely identify a tuple. \n",
    "\n",
    "To check if attribute *name* is a superkey of the relation *attributes = { name, category, color, department, price}*, we compute the closure of attribute $name$. We obtain:\n",
    "\n",
    "\\begin{equation*}\n",
    "\\{name\\}^+ = \\{name, color\\}\n",
    "\\end{equation*}\n",
    "\n",
    "It shows that attribute $name$ does not determine all the attributes of the relation *attributes*, then *name* is not a superkey."
   ]
  },
  {
   "cell_type": "markdown",
   "metadata": {},
   "source": [
    "### Keys and Superkeys\n",
    "\n",
    "Next, we'll add some new functions now for finding superkeys and keys.  Recall:\n",
    "* A _superkey_ for a relation $R(B_1,\\dots,B_m)$ is a set of attributes $\\{A_1,\\dots,A_n\\}$ s.t.\n",
    "$$ \\{A_1,\\dots,A_n\\} \\rightarrow B_{j} \\text{ for all } j=1,\\dots m$$\n",
    "* A _key_ is a minimal (setwise) _superkey_\n",
    "\n",
    "The algorithm to determine if a set of attributes $A$ is a superkey for $X$ is actually very simple (check if $A^+=X$):"
   ]
  },
  {
   "cell_type": "code",
   "execution_count": 21,
   "metadata": {},
   "outputs": [],
   "source": [
    "def is_superkey_for(A, X, fds, verbose=False):\n",
    "    return X.issubset(compute_closure(A, fds, verbose=verbose))"
   ]
  },
  {
   "cell_type": "markdown",
   "metadata": {},
   "source": [
    "Is \"name\" a superkey of the relation?"
   ]
  },
  {
   "cell_type": "code",
   "execution_count": 22,
   "metadata": {},
   "outputs": [
    {
     "data": {
      "text/plain": [
       "False"
      ]
     },
     "execution_count": 22,
     "metadata": {},
     "output_type": "execute_result"
    }
   ],
   "source": [
    "A = set([ \"price\", \"name\"])\n",
    "is_superkey_for(A, attributes, fds)"
   ]
  },
  {
   "cell_type": "markdown",
   "metadata": {},
   "source": [
    "Then, to check if $A$ is a key for $X$, we just confirm that:\n",
    "* (a) it is a superkey\n",
    "* (b) there are no smaller superkeys (_Note that we only need to check for superkeys of one size smaller_)"
   ]
  },
  {
   "cell_type": "code",
   "execution_count": 23,
   "metadata": {},
   "outputs": [],
   "source": [
    "import itertools\n",
    "\n",
    "\n",
    "def is_key_for(A, X, fds, verbose=False):\n",
    "    subsets = set(itertools.combinations(A, len(A)-1))\n",
    "    return is_superkey_for(A, X, fds) and \\\n",
    "        all([not is_superkey_for(set(SA), X, fds) for SA in subsets])"
   ]
  },
  {
   "cell_type": "markdown",
   "metadata": {},
   "source": [
    "Now, let's look at another example:\n",
    "\n",
    "attributes = { cru, type, client, remise}\n",
    "\n",
    "and functional dependencies:\n",
    "\n",
    "cru $\\rightarrow$ type\n",
    "\n",
    "type, client $\\rightarrow$ remise\n",
    "\n",
    "#### Exercise 4\n",
    "\n",
    "Is \"cru\" and \"client\" a key of the relation? Why?"
   ]
  },
  {
   "cell_type": "code",
   "execution_count": 35,
   "metadata": {},
   "outputs": [
    {
     "name": "stdout",
     "output_type": "stream",
     "text": [
      "Is A = {'client', 'cru'} a SUPERKEY for X = {'remise', 'client', 'cru', 'type'} ? True\n",
      "Is A = {'client', 'cru'} a KEY for X = {'remise', 'client', 'cru', 'type'} ? True\n"
     ]
    }
   ],
   "source": [
    "# These are the attribute set.\n",
    "attributes = set([\"cru\", \"type\", \"client\", \"remise\"])\n",
    "fds = [(set([\"cru\"]), \"type\"),\n",
    "       (set([\"type\", \"client\"]), \"remise\")]\n",
    "\n",
    "#print_setup(attributes, fds)\n",
    "\n",
    "A = set([ \"cru\", \"client\"])\n",
    "\n",
    "# Is a superkey ?\n",
    "print(\"Is A = {} a SUPERKEY for X = {} ? {}\".format(A, attributes, is_superkey_for(A, attributes, fds)))\n",
    "\n",
    "# Is a key ?\n",
    "print(\"Is A = {} a KEY for X = {} ? {}\".format(A, attributes, is_key_for(A, attributes, fds, verbose=True)))"
   ]
  },
  {
   "cell_type": "markdown",
   "metadata": {},
   "source": [
    "*{client, cru}* is a key of the relation; it is a superkey AND it is minimal (no smaller). "
   ]
  },
  {
   "cell_type": "markdown",
   "metadata": {},
   "source": [
    "### Closure of a set of functional dependencies\n",
    "\n",
    "The algorithm to find the closure of a set of functional dependencies is the following:"
   ]
  },
  {
   "cell_type": "code",
   "execution_count": 36,
   "metadata": {},
   "outputs": [],
   "source": [
    "import itertools\n",
    "\n",
    "\n",
    "def findsubsets(S, m):\n",
    "    return set(itertools.combinations(S, m))\n",
    "\n",
    "\n",
    "def closure(X, fds, verbose=False):\n",
    "    c = []\n",
    "    for size in range(1, len(X)):\n",
    "        subsets = findsubsets(X, size)\n",
    "        for SA in subsets:      # loop through all the subsets.\n",
    "            cl = compute_closure(set(SA), fds, verbose)\n",
    "            if len(cl.difference(SA)) > 0:\n",
    "                c.extend([(set(SA), cl.difference(SA))])\n",
    "    return c"
   ]
  },
  {
   "cell_type": "markdown",
   "metadata": {},
   "source": [
    "Let's see some examples of how to use it:"
   ]
  },
  {
   "cell_type": "code",
   "execution_count": 37,
   "metadata": {},
   "outputs": [
    {
     "name": "stdout",
     "output_type": "stream",
     "text": [
      "FDs = \tB -> D\n",
      "\tC,B -> D\n",
      "\tA,B -> C,D\n",
      "\tA,D -> C,B\n",
      "\tC,A,B -> D\n",
      "\tA,B,D -> C\n",
      "\tC,A,D -> B\n"
     ]
    }
   ],
   "source": [
    "attributes1 = set(['A', 'B', 'C', 'D'])\n",
    "fds1 = [(set(['A', 'B']), 'C'),\n",
    "        (set(['A', 'D']), 'B'),\n",
    "        (set(['B']), 'D')]\n",
    "\n",
    "print_fds(closure(attributes1, fds1))"
   ]
  },
  {
   "cell_type": "code",
   "execution_count": 38,
   "metadata": {},
   "outputs": [
    {
     "name": "stdout",
     "output_type": "stream",
     "text": [
      "FDs = \tCRU -> TYPE\n",
      "\tCLIENT,TYPE -> REMISE\n",
      "\tCRU,REMISE -> TYPE\n",
      "\tCRU,CLIENT -> REMISE,TYPE\n",
      "\tCRU,CLIENT,REMISE -> TYPE\n",
      "\tCRU,CLIENT,TYPE -> REMISE\n"
     ]
    }
   ],
   "source": [
    "attributes2 = set(['CRU', 'TYPE', 'CLIENT', 'REMISE'])\n",
    "fds2 = [(set(['CRU']), 'TYPE'),\n",
    "        (set(['TYPE', 'CLIENT']), 'REMISE')]\n",
    "\n",
    "print_fds(closure(attributes2, fds2))"
   ]
  },
  {
   "cell_type": "code",
   "execution_count": 39,
   "metadata": {},
   "outputs": [
    {
     "name": "stdout",
     "output_type": "stream",
     "text": [
      "FDs = \tTYPE -> MARQUE,PUISSANCE\n",
      "\tN VEH -> PUISSANCE,COULEUR,TYPE,MARQUE\n",
      "\tPUISSANCE,TYPE -> MARQUE\n",
      "\tCOULEUR,N VEH -> PUISSANCE,TYPE,MARQUE\n",
      "\tN VEH,TYPE -> PUISSANCE,COULEUR,MARQUE\n",
      "\tMARQUE,TYPE -> PUISSANCE\n",
      "\tCOULEUR,TYPE -> PUISSANCE,MARQUE\n",
      "\tMARQUE,N VEH -> PUISSANCE,COULEUR,TYPE\n",
      "\tPUISSANCE,N VEH -> COULEUR,TYPE,MARQUE\n",
      "\tPUISSANCE,N VEH,TYPE -> COULEUR,MARQUE\n",
      "\tMARQUE,COULEUR,TYPE -> PUISSANCE\n",
      "\tPUISSANCE,MARQUE,N VEH -> COULEUR,TYPE\n",
      "\tCOULEUR,N VEH,TYPE -> PUISSANCE,MARQUE\n",
      "\tMARQUE,N VEH,TYPE -> PUISSANCE,COULEUR\n",
      "\tMARQUE,COULEUR,N VEH -> PUISSANCE,TYPE\n",
      "\tPUISSANCE,COULEUR,TYPE -> MARQUE\n",
      "\tPUISSANCE,COULEUR,N VEH -> TYPE,MARQUE\n",
      "\tPUISSANCE,COULEUR,N VEH,TYPE -> MARQUE\n",
      "\tPUISSANCE,MARQUE,N VEH,TYPE -> COULEUR\n",
      "\tMARQUE,COULEUR,N VEH,TYPE -> PUISSANCE\n",
      "\tPUISSANCE,COULEUR,MARQUE,N VEH -> TYPE\n"
     ]
    }
   ],
   "source": [
    "attributes3 = set(['N VEH', 'TYPE', 'COULEUR', 'MARQUE', 'PUISSANCE'])\n",
    "fds3 = [(set(['N VEH']), 'TYPE'),\n",
    "        (set(['N VEH']), 'COULEUR'),\n",
    "        (set(['TYPE']), 'MARQUE'),\n",
    "        (set(['TYPE']), 'PUISSANCE')]\n",
    "\n",
    "print_fds(closure(attributes3, fds3))"
   ]
  },
  {
   "cell_type": "markdown",
   "metadata": {},
   "source": [
    "Now, let's write a method to find superkeys of the relations:\n"
   ]
  },
  {
   "cell_type": "code",
   "execution_count": 40,
   "metadata": {},
   "outputs": [],
   "source": [
    "def superkeys(X, fds, verbose=False):\n",
    "    c = []\n",
    "    for size in range(1, len(X)):\n",
    "        subsets = findsubsets(X, size)\n",
    "        for SA in subsets:\n",
    "            cl = compute_closure(set(SA), fds, verbose)\n",
    "            if cl == X and len(cl.difference(SA)) > 0:  # cl = X\n",
    "                c.extend([SA])\n",
    "\n",
    "    return c"
   ]
  },
  {
   "cell_type": "code",
   "execution_count": 41,
   "metadata": {},
   "outputs": [
    {
     "data": {
      "text/plain": [
       "[('A', 'B'), ('A', 'D'), ('C', 'A', 'B'), ('A', 'B', 'D'), ('C', 'A', 'D')]"
      ]
     },
     "execution_count": 41,
     "metadata": {},
     "output_type": "execute_result"
    }
   ],
   "source": [
    "superkeys(attributes1, fds1)"
   ]
  },
  {
   "cell_type": "markdown",
   "metadata": {},
   "source": [
    "Let's see some examples:"
   ]
  },
  {
   "cell_type": "code",
   "execution_count": 42,
   "metadata": {},
   "outputs": [
    {
     "data": {
      "text/plain": [
       "[('CRU', 'CLIENT'), ('CRU', 'CLIENT', 'REMISE'), ('CRU', 'CLIENT', 'TYPE')]"
      ]
     },
     "execution_count": 42,
     "metadata": {},
     "output_type": "execute_result"
    }
   ],
   "source": [
    "superkeys(attributes2, fds2)"
   ]
  },
  {
   "cell_type": "code",
   "execution_count": 43,
   "metadata": {},
   "outputs": [
    {
     "data": {
      "text/plain": [
       "[('N VEH',),\n",
       " ('COULEUR', 'N VEH'),\n",
       " ('N VEH', 'TYPE'),\n",
       " ('MARQUE', 'N VEH'),\n",
       " ('PUISSANCE', 'N VEH'),\n",
       " ('PUISSANCE', 'N VEH', 'TYPE'),\n",
       " ('PUISSANCE', 'MARQUE', 'N VEH'),\n",
       " ('COULEUR', 'N VEH', 'TYPE'),\n",
       " ('MARQUE', 'N VEH', 'TYPE'),\n",
       " ('COULEUR', 'MARQUE', 'N VEH'),\n",
       " ('PUISSANCE', 'COULEUR', 'N VEH'),\n",
       " ('PUISSANCE', 'COULEUR', 'N VEH', 'TYPE'),\n",
       " ('PUISSANCE', 'MARQUE', 'N VEH', 'TYPE'),\n",
       " ('COULEUR', 'MARQUE', 'N VEH', 'TYPE'),\n",
       " ('PUISSANCE', 'COULEUR', 'MARQUE', 'N VEH')]"
      ]
     },
     "execution_count": 43,
     "metadata": {},
     "output_type": "execute_result"
    }
   ],
   "source": [
    "superkeys(attributes3, fds3)"
   ]
  },
  {
   "cell_type": "markdown",
   "metadata": {},
   "source": [
    "#### Exercise 5\n",
    "\n",
    "Implement a `keys` method to find keys of a relation.\n",
    "\n",
    "**Note**: If there exist multiple keys of a relation, the `keys` method should return at least one of them."
   ]
  },
  {
   "cell_type": "code",
   "execution_count": 50,
   "metadata": {},
   "outputs": [],
   "source": [
    "def keys(attributes, fds, verbose=False):\n",
    "    \n",
    "    key = None\n",
    "    \n",
    "    # The method superkeys() outputs superkeys in ascending order,\n",
    "    # ie smallest key is first\n",
    "    super_keys = superkeys(attributes, fds, verbose=verbose)\n",
    "    \n",
    "    # Check if c is not empty\n",
    "    if len(super_keys) > 0:\n",
    "        key = super_keys[0]\n",
    "    \n",
    "    return key"
   ]
  },
  {
   "cell_type": "markdown",
   "metadata": {},
   "source": [
    "Test it "
   ]
  },
  {
   "cell_type": "code",
   "execution_count": 54,
   "metadata": {},
   "outputs": [
    {
     "name": "stdout",
     "output_type": "stream",
     "text": [
      "Using FD B -> D\n",
      "\t Updated x to {B,D}\n",
      "Using FD B -> D\n",
      "\t Updated x to {C,B,D}\n",
      "Using FD A,B -> C\n",
      "\t Updated x to {C,A,B}\n",
      "Using FD B -> D\n",
      "\t Updated x to {C,A,B,D}\n",
      "Using FD A,D -> B\n",
      "\t Updated x to {A,B,D}\n",
      "Using FD A,B -> C\n",
      "\t Updated x to {C,A,B,D}\n",
      "Using FD B -> D\n",
      "\t Updated x to {C,A,B,D}\n",
      "Using FD A,B -> C\n",
      "\t Updated x to {C,A,B,D}\n",
      "Using FD A,D -> B\n",
      "\t Updated x to {C,A,B,D}\n"
     ]
    },
    {
     "data": {
      "text/plain": [
       "('A', 'B')"
      ]
     },
     "execution_count": 54,
     "metadata": {},
     "output_type": "execute_result"
    }
   ],
   "source": [
    "keys(attributes1, fds1, verbose=False)"
   ]
  },
  {
   "cell_type": "code",
   "execution_count": 53,
   "metadata": {},
   "outputs": [
    {
     "data": {
      "text/plain": [
       "('CRU', 'CLIENT')"
      ]
     },
     "execution_count": 53,
     "metadata": {},
     "output_type": "execute_result"
    }
   ],
   "source": [
    "keys(attributes2, fds2)"
   ]
  },
  {
   "cell_type": "code",
   "execution_count": 52,
   "metadata": {},
   "outputs": [
    {
     "data": {
      "text/plain": [
       "('N VEH',)"
      ]
     },
     "execution_count": 52,
     "metadata": {},
     "output_type": "execute_result"
    }
   ],
   "source": [
    "keys(attributes3, fds3)"
   ]
  }
 ],
 "metadata": {
  "anaconda-cloud": {},
  "kernelspec": {
   "display_name": "Python 3",
   "language": "python",
   "name": "python3"
  },
  "language_info": {
   "codemirror_mode": {
    "name": "ipython",
    "version": 3
   },
   "file_extension": ".py",
   "mimetype": "text/x-python",
   "name": "python",
   "nbconvert_exporter": "python",
   "pygments_lexer": "ipython3",
   "version": "3.6.9"
  },
  "latex_envs": {
   "LaTeX_envs_menu_present": true,
   "autoclose": false,
   "autocomplete": true,
   "bibliofile": "biblio.bib",
   "cite_by": "apalike",
   "current_citInitial": 1,
   "eqLabelWithNumbers": true,
   "eqNumInitial": 1,
   "hotkeys": {
    "equation": "Ctrl-E",
    "itemize": "Ctrl-I"
   },
   "labels_anchors": false,
   "latex_user_defs": false,
   "report_style_numbering": false,
   "user_envs_cfg": false
  }
 },
 "nbformat": 4,
 "nbformat_minor": 2
}
